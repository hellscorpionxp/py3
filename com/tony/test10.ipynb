{
 "cells": [
  {
   "cell_type": "code",
   "execution_count": 9,
   "metadata": {},
   "outputs": [
    {
     "name": "stdout",
     "output_type": "stream",
     "text": [
      "[[1.22306621 0.74596399 1.0500805  0.67801833 0.48602955 1.33883294\n",
      "  0.62083724 0.425345   0.64248875]]\n",
      "[-0.6568643]\n",
      "y_predict:  [4 2 2 2 2 4 2 2 4 2 4 2 2 2 4 2 2 2 4 2 2 4 4 2 4 4 2 2 4 2 4 4 2 2 2 2 4\n",
      " 4 2 4 2 2 2 2 2 2 2 2 2 2 4 4 2 2 2 2 4 2 2 4 2 2 2 4 2 2 2 2 2 2 2 4 2 2\n",
      " 2 4 2 2 4 2 4 2 2 2 2 2 2 2 4 2 2 4 2 2 2 2 2 2 2 2 2 4 4 2 2 2 2 2 2 4 4\n",
      " 2 4 4 2 4 2 4 2 4 4 2 4 2 4 2 2 2 4 2 2 2 4 2 2 2 2 2 4 2 4 2 2 2 4 2 4 2\n",
      " 2 2 2 2 4 2 4 4 2 4 4 2 2 2 2 4 4 4 2 2 4 2 2]\n",
      "直接对比真实值和预测值： 570    True\n",
      "529    True\n",
      "280    True\n",
      "589    True\n",
      "463    True\n",
      "       ... \n",
      "278    True\n",
      "563    True\n",
      "416    True\n",
      "422    True\n",
      "121    True\n",
      "Name: Class, Length: 171, dtype: bool\n",
      "准确率为： 0.9707602339181286\n",
      "              precision    recall  f1-score   support\n",
      "\n",
      "          良性       0.99      0.97      0.98       120\n",
      "          恶性       0.93      0.98      0.95        51\n",
      "\n",
      "    accuracy                           0.97       171\n",
      "   macro avg       0.96      0.97      0.97       171\n",
      "weighted avg       0.97      0.97      0.97       171\n",
      "\n"
     ]
    },
    {
     "data": {
      "text/plain": [
       "0.973529411764706"
      ]
     },
     "execution_count": 9,
     "metadata": {},
     "output_type": "execute_result"
    }
   ],
   "source": [
    "import pandas as pd\n",
    "import numpy as np\n",
    "from sklearn.model_selection import train_test_split\n",
    "from sklearn.preprocessing import StandardScaler\n",
    "from sklearn.linear_model import LogisticRegression\n",
    "from sklearn.metrics import classification_report, roc_auc_score\n",
    "\n",
    "# 1、获取\n",
    "column_name = ['Sample code number', 'Clump Thickness', 'Uniformity of Cell Size', \n",
    "              'Uniformity of Cell Shape', 'Marginal Adhesion', 'Single EpithelialCell Size', \n",
    "              'Bare Nuclei', 'Bland Chromatin', 'Normal Nucleoli', 'Mitoses', 'Class']\n",
    "data = pd.read_csv(\"./datasets/breast-cancer-wisconsin.data\", names=column_name)\n",
    "# 2、缺失值处理\n",
    "data = data.replace(to_replace=\"?\", value=np.nan)\n",
    "data.dropna(inplace=True)\n",
    "# 3、筛选特征值和目标值\n",
    "x = data.iloc[:, 1:-1]\n",
    "y = data[\"Class\"]\n",
    "# 4、划分\n",
    "x_train, x_test, y_train, y_test = train_test_split(x, y)\n",
    "# 5、标准化\n",
    "transfer = StandardScaler()\n",
    "x_train = transfer.fit_transform(x_train)\n",
    "x_test = transfer.transform(x_test)\n",
    "# 6、逻辑回归预估器\n",
    "estimator = LogisticRegression()\n",
    "estimator.fit(x_train, y_train)\n",
    "# 7、模型评估（回归系数和偏置）\n",
    "print(estimator.coef_)\n",
    "print(estimator.intercept_)\n",
    "y_predict = estimator.predict(x_test)\n",
    "print(\"y_predict: \", y_predict)\n",
    "print(\"直接对比真实值和预测值：\", y_test == y_predict)\n",
    "score = estimator.score(x_test, y_test)\n",
    "print(\"准确率为：\", score)\n",
    "# 8、精确率，召回率，F1-score\n",
    "report = classification_report(y_test, y_predict, labels=[2, 4], target_names=[\"良性\", \"恶性\"])\n",
    "print(report)\n",
    "# 9、转成 0，1 值（类别为0代表反例，为1代表正例）\n",
    "y_true = np.where(y_test > 3, 1, 0)\n",
    "# 10、roc 曲线，auc 指标\n",
    "roc_auc_score(y_true, y_predict)"
   ]
  },
  {
   "cell_type": "code",
   "execution_count": null,
   "metadata": {},
   "outputs": [],
   "source": []
  }
 ],
 "metadata": {
  "kernelspec": {
   "display_name": "Python 3",
   "language": "python",
   "name": "python3"
  },
  "language_info": {
   "codemirror_mode": {
    "name": "ipython",
    "version": 3
   },
   "file_extension": ".py",
   "mimetype": "text/x-python",
   "name": "python",
   "nbconvert_exporter": "python",
   "pygments_lexer": "ipython3",
   "version": "3.7.6"
  }
 },
 "nbformat": 4,
 "nbformat_minor": 4
}
