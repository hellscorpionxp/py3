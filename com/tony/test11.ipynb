{
 "cells": [
  {
   "cell_type": "code",
   "execution_count": 7,
   "metadata": {},
   "outputs": [
    {
     "data": {
      "text/plain": [
       "0.5360164281446521"
      ]
     },
     "execution_count": 7,
     "metadata": {},
     "output_type": "execute_result"
    }
   ],
   "source": [
    "import pandas as pd\n",
    "from sklearn.decomposition import PCA\n",
    "from sklearn.cluster import KMeans\n",
    "from sklearn.metrics import silhouette_score\n",
    "\n",
    "order_products = pd.read_csv(\"./instacart/order_products_prior.csv\")\n",
    "products = pd.read_csv(\"./instacart/products.csv\")\n",
    "orders = pd.read_csv(\"./instacart/orders.csv\")\n",
    "aisles = pd.read_csv(\"./instacart/aisles.csv\")\n",
    "\n",
    "tab1 = pd.merge(aisles, products, on=[\"aisle_id\", \"aisle_id\"])\n",
    "tab2 = pd.merge(tab1, order_products, on=[\"product_id\", \"product_id\"])\n",
    "tab3 = pd.merge(tab2, orders, on=[\"order_id\", \"order_id\"])\n",
    "tab4 = pd.crosstab(tab3[\"user_id\"], tab3[\"aisle\"])\n",
    "tab4\n",
    "\n",
    "data = tab4[:100000]\n",
    "transfer = PCA(n_components=0.95)\n",
    "data_pca = transfer.fit_transform(data)\n",
    "data_pca.shape\n",
    "\n",
    "# 无监督学习（KMeans）\n",
    "estimator = KMeans(n_clusters=3)\n",
    "estimator.fit(data_pca)\n",
    "y_predict = estimator.predict(data_pca)\n",
    "y_predict[:300]\n",
    "\n",
    "# 模型评估（轮廓系数）\n",
    "silhouette_score(data_pca, y_predict)"
   ]
  },
  {
   "cell_type": "code",
   "execution_count": null,
   "metadata": {},
   "outputs": [],
   "source": []
  }
 ],
 "metadata": {
  "kernelspec": {
   "display_name": "Python 3",
   "language": "python",
   "name": "python3"
  },
  "language_info": {
   "codemirror_mode": {
    "name": "ipython",
    "version": 3
   },
   "file_extension": ".py",
   "mimetype": "text/x-python",
   "name": "python",
   "nbconvert_exporter": "python",
   "pygments_lexer": "ipython3",
   "version": "3.7.6"
  }
 },
 "nbformat": 4,
 "nbformat_minor": 4
}
