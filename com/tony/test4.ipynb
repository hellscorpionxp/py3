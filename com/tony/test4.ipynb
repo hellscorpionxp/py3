{
 "cells": [
  {
   "cell_type": "code",
   "execution_count": 3,
   "metadata": {},
   "outputs": [
    {
     "name": "stdout",
     "output_type": "stream",
     "text": [
      "y_predict:  [0 2 0 0 2 1 2 0 2 1 2 1 2 2 1 1 2 1 1 0 0 2 0 0 1 1 1 2 0 1 0 1 0 0 1 2 1\n",
      " 2]\n",
      "对比真实值和预测值： [ True  True  True  True  True  True  True  True  True  True  True  True\n",
      "  True  True  True False  True  True  True  True  True  True  True  True\n",
      "  True  True  True  True  True  True  True  True  True  True False  True\n",
      "  True  True]\n",
      "准确率为： 0.9473684210526315\n",
      "最佳参数： {'n_neighbors': 11}\n",
      "最佳结果： 0.9734848484848484\n",
      "最佳预估器： KNeighborsClassifier(n_neighbors=11)\n",
      "交叉验证结果： {'mean_fit_time': array([3.99422646e-04, 4.95862961e-04, 9.93967056e-05, 2.99024582e-04,\n",
      "       3.99875641e-04, 3.01480293e-04]), 'std_fit_time': array([0.00048919, 0.0004959 , 0.00029819, 0.00045677, 0.00048975,\n",
      "       0.00046055]), 'mean_score_time': array([0.00079858, 0.00070312, 0.00099714, 0.00089762, 0.00070035,\n",
      "       0.00089529]), 'std_score_time': array([3.99313487e-04, 4.60494354e-04, 1.38200744e-05, 2.99210253e-04,\n",
      "       4.58520550e-04, 2.98680943e-04]), 'param_n_neighbors': masked_array(data=[1, 3, 5, 7, 9, 11],\n",
      "             mask=[False, False, False, False, False, False],\n",
      "       fill_value='?',\n",
      "            dtype=object), 'params': [{'n_neighbors': 1}, {'n_neighbors': 3}, {'n_neighbors': 5}, {'n_neighbors': 7}, {'n_neighbors': 9}, {'n_neighbors': 11}], 'split0_test_score': array([1., 1., 1., 1., 1., 1.]), 'split1_test_score': array([0.91666667, 0.91666667, 1.        , 0.91666667, 0.91666667,\n",
      "       0.91666667]), 'split2_test_score': array([1., 1., 1., 1., 1., 1.]), 'split3_test_score': array([1.        , 1.        , 1.        , 1.        , 0.90909091,\n",
      "       1.        ]), 'split4_test_score': array([1., 1., 1., 1., 1., 1.]), 'split5_test_score': array([0.90909091, 0.90909091, 1.        , 1.        , 1.        ,\n",
      "       1.        ]), 'split6_test_score': array([1., 1., 1., 1., 1., 1.]), 'split7_test_score': array([0.90909091, 0.90909091, 0.90909091, 0.90909091, 1.        ,\n",
      "       1.        ]), 'split8_test_score': array([1., 1., 1., 1., 1., 1.]), 'split9_test_score': array([0.90909091, 0.81818182, 0.81818182, 0.81818182, 0.81818182,\n",
      "       0.81818182]), 'mean_test_score': array([0.96439394, 0.95530303, 0.97272727, 0.96439394, 0.96439394,\n",
      "       0.97348485]), 'std_test_score': array([0.04365767, 0.0604591 , 0.05821022, 0.05965639, 0.05965639,\n",
      "       0.05742104]), 'rank_test_score': array([5, 6, 2, 3, 3, 1])}\n"
     ]
    }
   ],
   "source": [
    "from sklearn.datasets import load_iris\n",
    "from sklearn.model_selection import train_test_split, GridSearchCV\n",
    "from sklearn.preprocessing import StandardScaler\n",
    "from sklearn.neighbors import KNeighborsClassifier\n",
    "\n",
    "def knn_iris():\n",
    "    # 第一步：获取数据\n",
    "    iris = load_iris()\n",
    "    # 第二步：划分数据集\n",
    "    x_train, x_test, y_train, y_test = train_test_split(iris.data, iris.target, random_state=6)\n",
    "    # 第三步：特征工程（标准化）\n",
    "    transfer = StandardScaler()\n",
    "    x_train = transfer.fit_transform(x_train)\n",
    "    x_test = transfer.transform(x_test)\n",
    "    # 第四步：KNN算法预估器\n",
    "    estimator = KNeighborsClassifier(n_neighbors=3)\n",
    "    estimator.fit(x_train, y_train)\n",
    "    # 第五步：模型评估\n",
    "    y_predict = estimator.predict(x_test)\n",
    "    print(\"y_predict: \", y_predict)\n",
    "    print(\"对比真实值和预测值：\", y_test == y_predict)\n",
    "    score = estimator.score(x_test, y_test)\n",
    "    print(\"准确率为：\", score)\n",
    "    return None\n",
    "\n",
    "def knn_iris_grid_search():\n",
    "    # 第一步：获取数据\n",
    "    iris = load_iris()\n",
    "    # 第二步：划分数据集\n",
    "    x_train, x_test, y_train, y_test = train_test_split(iris.data, iris.target, random_state=6)\n",
    "    # 第三步：特征工程（标准化）\n",
    "    transfer = StandardScaler()\n",
    "    x_train = transfer.fit_transform(x_train)\n",
    "    x_test = transfer.transform(x_test)\n",
    "    # 第四步：KNN算法预估器\n",
    "    estimator = KNeighborsClassifier(p=2)\n",
    "    # 第五步：模型选择和调优（网格搜索，交叉验证）\n",
    "    param_dict = {\"n_neighbors\": [1, 3, 5, 7, 9, 11]}\n",
    "    estimator = GridSearchCV(estimator, param_grid=param_dict, cv=10)\n",
    "    estimator.fit(x_train, y_train)\n",
    "    # 第六步：模型评估\n",
    "    y_predict = estimator.predict(x_test)\n",
    "    print(\"y_predict: \", y_predict)\n",
    "    print(\"对比真实值和预测值：\", y_test == y_predict)\n",
    "    score = estimator.score(x_test, y_test)\n",
    "    print(\"准确率为：\", score)\n",
    "    print(\"最佳参数：\", estimator.best_params_)\n",
    "    print(\"最佳结果：\", estimator.best_score_)\n",
    "    print(\"最佳预估器：\", estimator.best_estimator_)\n",
    "    print(\"交叉验证结果：\", estimator.cv_results_)\n",
    "    return None\n",
    "\n",
    "if __name__ == \"__main__\":\n",
    "    # knn_iris()\n",
    "    knn_iris_grid_search()"
   ]
  },
  {
   "cell_type": "code",
   "execution_count": null,
   "metadata": {},
   "outputs": [],
   "source": []
  }
 ],
 "metadata": {
  "kernelspec": {
   "display_name": "Python 3",
   "language": "python",
   "name": "python3"
  },
  "language_info": {
   "codemirror_mode": {
    "name": "ipython",
    "version": 3
   },
   "file_extension": ".py",
   "mimetype": "text/x-python",
   "name": "python",
   "nbconvert_exporter": "python",
   "pygments_lexer": "ipython3",
   "version": "3.7.6"
  }
 },
 "nbformat": 4,
 "nbformat_minor": 4
}
