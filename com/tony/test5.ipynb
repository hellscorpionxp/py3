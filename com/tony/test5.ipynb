{
 "cells": [
  {
   "cell_type": "code",
   "execution_count": 3,
   "metadata": {},
   "outputs": [
    {
     "name": "stderr",
     "output_type": "stream",
     "text": [
      "C:\\ProgramData\\Anaconda3\\lib\\site-packages\\sklearn\\model_selection\\_split.py:672: UserWarning: The least populated class in y has only 1 members, which is less than n_splits=3.\n",
      "  % (min_groups, self.n_splits)), UserWarning)\n"
     ]
    },
    {
     "name": "stdout",
     "output_type": "stream",
     "text": [
      "y_predict:  [6668114465 3873334833 4373429966 ... 1853867889 6284072854 6284072854]\n",
      "对比真实值和预测值： 25862616    False\n",
      "8622703      True\n",
      "11091100    False\n",
      "10670039    False\n",
      "23130637    False\n",
      "            ...  \n",
      "5452709      True\n",
      "7286332      True\n",
      "28159569    False\n",
      "13965343    False\n",
      "11357540    False\n",
      "Name: place_id, Length: 18231, dtype: bool\n",
      "准确率为： 0.357797158685755\n",
      "最佳参数： {'n_neighbors': 1}\n",
      "最佳结果： 0.3449625159992686\n",
      "最佳预估器： KNeighborsClassifier(n_neighbors=1)\n",
      "交叉验证结果： {'mean_fit_time': array([0.07480812, 0.06316797, 0.06250111, 0.07180913, 0.06549207,\n",
      "       0.07280493]), 'std_fit_time': array([0.01345018, 0.00046384, 0.00092276, 0.00777671, 0.00384322,\n",
      "       0.00776772]), 'mean_score_time': array([0.50465131, 0.57345891, 0.62266811, 0.66687298, 0.7134165 ,\n",
      "       0.72738767]), 'std_score_time': array([0.00987267, 0.00487732, 0.00791522, 0.00204762, 0.00367248,\n",
      "       0.00367241]), 'param_n_neighbors': masked_array(data=[1, 3, 5, 7, 9, 11],\n",
      "             mask=[False, False, False, False, False, False],\n",
      "       fill_value='?',\n",
      "            dtype=object), 'params': [{'n_neighbors': 1}, {'n_neighbors': 3}, {'n_neighbors': 5}, {'n_neighbors': 7}, {'n_neighbors': 9}, {'n_neighbors': 11}], 'split0_test_score': array([0.34306089, 0.32929238, 0.33900165, 0.34174438, 0.33889194,\n",
      "       0.3360395 ]), 'split1_test_score': array([0.34415798, 0.32879868, 0.34081185, 0.34152496, 0.33368075,\n",
      "       0.33230938]), 'split2_test_score': array([0.34766868, 0.33148656, 0.34520022, 0.34349973, 0.33812397,\n",
      "       0.33214482]), 'mean_test_score': array([0.34496252, 0.32985921, 0.34167124, 0.34225635, 0.33689888,\n",
      "       0.3334979 ]), 'std_test_score': array([0.00196526, 0.00116823, 0.0026025 , 0.00088375, 0.00229706,\n",
      "       0.00179844]), 'rank_test_score': array([1, 6, 3, 2, 4, 5])}\n"
     ]
    }
   ],
   "source": [
    "import pandas as pd\n",
    "from sklearn.model_selection import train_test_split, GridSearchCV\n",
    "from sklearn.preprocessing import StandardScaler\n",
    "from sklearn.neighbors import KNeighborsClassifier\n",
    "\n",
    "# 1、获取数据\n",
    "data = pd.read_csv(\"./fb_location/train.csv\")\n",
    "# 2、数据处理（缩小数据范围，处理时间特征）\n",
    "data = data.query(\"x < 5.5 & x > 5.0 & y < 3.5 & y > 3.0\")\n",
    "time_value = pd.to_datetime(data[\"time\"], unit=\"s\")\n",
    "date = pd.DatetimeIndex(time_value)\n",
    "data[\"day\"] = date.day\n",
    "data[\"weekday\"] = date.weekday\n",
    "data[\"hour\"] = date.hour\n",
    "# 3、过滤签到次数少的地点\n",
    "place_count = data.groupby(\"place_id\").count()[\"row_id\"]\n",
    "data_new = data[data[\"place_id\"].isin(place_count[place_count > 3].index.values)]\n",
    "# 4、筛选特征值和目标值\n",
    "x = data_new[[\"x\", \"y\", \"accuracy\", \"day\", \"weekday\", \"hour\"]]\n",
    "y = data_new[\"place_id\"]\n",
    "# 5、数据集划分\n",
    "x_train, x_test, y_train, y_test = train_test_split(x, y)\n",
    "# 6、特征工程（标准化）\n",
    "transfer = StandardScaler()\n",
    "x_train = transfer.fit_transform(x_train)\n",
    "x_test = transfer.transform(x_test)\n",
    "# 7、KNN算法预估器\n",
    "estimator = KNeighborsClassifier(p=2)\n",
    "# 8、模型选择和调优（网格搜索，交叉验证）\n",
    "param_dict = {\"n_neighbors\": [1, 3, 5, 7, 9, 11]}\n",
    "estimator = GridSearchCV(estimator, param_grid=param_dict, cv=3)\n",
    "estimator.fit(x_train, y_train)\n",
    "# 9、模型评估\n",
    "y_predict = estimator.predict(x_test)\n",
    "print(\"y_predict: \", y_predict)\n",
    "print(\"对比真实值和预测值：\", y_test == y_predict)\n",
    "score = estimator.score(x_test, y_test)\n",
    "print(\"准确率为：\", score)\n",
    "print(\"最佳参数：\", estimator.best_params_)\n",
    "print(\"最佳结果：\", estimator.best_score_)\n",
    "print(\"最佳预估器：\", estimator.best_estimator_)\n",
    "print(\"交叉验证结果：\", estimator.cv_results_)"
   ]
  },
  {
   "cell_type": "code",
   "execution_count": null,
   "metadata": {},
   "outputs": [],
   "source": []
  }
 ],
 "metadata": {
  "kernelspec": {
   "display_name": "Python 3",
   "language": "python",
   "name": "python3"
  },
  "language_info": {
   "codemirror_mode": {
    "name": "ipython",
    "version": 3
   },
   "file_extension": ".py",
   "mimetype": "text/x-python",
   "name": "python",
   "nbconvert_exporter": "python",
   "pygments_lexer": "ipython3",
   "version": "3.7.6"
  }
 },
 "nbformat": 4,
 "nbformat_minor": 4
}
