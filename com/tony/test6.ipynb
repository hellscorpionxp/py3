{
 "cells": [
  {
   "cell_type": "code",
   "execution_count": 2,
   "metadata": {},
   "outputs": [
    {
     "name": "stdout",
     "output_type": "stream",
     "text": [
      "y_predict:  [ 6 18 12 ...  8 15 17]\n",
      "对比真实值和预测值： [ True  True  True ...  True  True  True]\n",
      "准确率为： 0.8516553480475382\n"
     ]
    }
   ],
   "source": [
    "from sklearn.datasets import fetch_20newsgroups\n",
    "from sklearn.model_selection import train_test_split\n",
    "from sklearn.feature_extraction.text import TfidfVectorizer\n",
    "from sklearn.naive_bayes import MultinomialNB\n",
    "\n",
    "def nb_news():\n",
    "    # 1、获取数据\n",
    "    news = fetch_20newsgroups(data_home=\"./newsgroups/\", subset=\"all\")\n",
    "    # 2、划分数据集\n",
    "    x_train, x_test, y_train, y_test = train_test_split(news.data, news.target)\n",
    "    # 3、特征工程（文本特征抽取）\n",
    "    transfer = TfidfVectorizer()\n",
    "    x_train = transfer.fit_transform(x_train)\n",
    "    x_test = transfer.transform(x_test)\n",
    "    # 4、朴素贝叶斯算法预估器\n",
    "    estimator = MultinomialNB()\n",
    "    estimator.fit(x_train, y_train)\n",
    "    # 5、模型评估\n",
    "    y_predict = estimator.predict(x_test)\n",
    "    print(\"y_predict: \", y_predict)\n",
    "    print(\"对比真实值和预测值：\", y_test == y_predict)\n",
    "    score = estimator.score(x_test, y_test)\n",
    "    print(\"准确率为：\", score)\n",
    "    return None\n",
    "\n",
    "if __name__ == \"__main__\":\n",
    "    nb_news()"
   ]
  },
  {
   "cell_type": "code",
   "execution_count": null,
   "metadata": {},
   "outputs": [],
   "source": []
  }
 ],
 "metadata": {
  "kernelspec": {
   "display_name": "Python 3",
   "language": "python",
   "name": "python3"
  },
  "language_info": {
   "codemirror_mode": {
    "name": "ipython",
    "version": 3
   },
   "file_extension": ".py",
   "mimetype": "text/x-python",
   "name": "python",
   "nbconvert_exporter": "python",
   "pygments_lexer": "ipython3",
   "version": "3.7.6"
  }
 },
 "nbformat": 4,
 "nbformat_minor": 4
}
