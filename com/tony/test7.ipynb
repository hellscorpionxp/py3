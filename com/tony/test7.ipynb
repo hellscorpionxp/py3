{
 "cells": [
  {
   "cell_type": "code",
   "execution_count": 3,
   "metadata": {},
   "outputs": [
    {
     "name": "stdout",
     "output_type": "stream",
     "text": [
      "y_predict:  [0 2 1 2 1 1 1 1 1 0 2 1 2 2 0 2 1 1 1 1 0 2 0 1 2 0 1 2 2 1 0 0 1 1 1 0 0\n",
      " 0]\n",
      "对比真实值和预测值： [ True  True  True  True  True  True  True False  True  True  True  True\n",
      "  True  True  True  True  True  True False  True  True  True  True  True\n",
      "  True  True False  True  True False  True  True  True  True  True  True\n",
      "  True  True]\n",
      "准确率为： 0.8947368421052632\n"
     ]
    }
   ],
   "source": [
    "from sklearn.datasets import load_iris\n",
    "from sklearn.model_selection import train_test_split\n",
    "from sklearn.tree import DecisionTreeClassifier, export_graphviz\n",
    "\n",
    "def decision_iris():\n",
    "    # 1、获取\n",
    "    iris = load_iris()\n",
    "    # 2、划分\n",
    "    x_train, x_test, y_train, y_test = train_test_split(iris.data, iris.target, random_state=22)\n",
    "    # 3、决策树预估器\n",
    "    estimator = DecisionTreeClassifier(criterion='entropy', max_depth=None)\n",
    "    estimator.fit(x_train, y_train)\n",
    "    # 4、模型评估\n",
    "    y_predict = estimator.predict(x_test)\n",
    "    print(\"y_predict: \", y_predict)\n",
    "    print(\"对比真实值和预测值：\", y_test == y_predict)\n",
    "    score = estimator.score(x_test, y_test)\n",
    "    print(\"准确率为：\", score)\n",
    "    # 5、可视化决策树（http://webgraphviz.com/）\n",
    "    export_graphviz(estimator, out_file='./graphviz/iris_tree.dot', feature_names=iris.feature_names)\n",
    "    return None\n",
    "\n",
    "if __name__ == \"__main__\":\n",
    "    decision_iris()\n"
   ]
  },
  {
   "cell_type": "code",
   "execution_count": null,
   "metadata": {},
   "outputs": [],
   "source": []
  }
 ],
 "metadata": {
  "kernelspec": {
   "display_name": "Python 3",
   "language": "python",
   "name": "python3"
  },
  "language_info": {
   "codemirror_mode": {
    "name": "ipython",
    "version": 3
   },
   "file_extension": ".py",
   "mimetype": "text/x-python",
   "name": "python",
   "nbconvert_exporter": "python",
   "pygments_lexer": "ipython3",
   "version": "3.7.6"
  }
 },
 "nbformat": 4,
 "nbformat_minor": 4
}
